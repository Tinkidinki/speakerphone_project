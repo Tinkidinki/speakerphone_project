{
 "cells": [
  {
   "cell_type": "code",
   "execution_count": 32,
   "metadata": {},
   "outputs": [],
   "source": [
    "from pydub import AudioSegment\n",
    "import librosa\n",
    "import numpy as np\n",
    "from sklearn.model_selection import train_test_split\n",
    "from sklearn.svm import SVC\n",
    "from sklearn.metrics import accuracy_score"
   ]
  },
  {
   "cell_type": "code",
   "execution_count": 33,
   "metadata": {},
   "outputs": [],
   "source": [
    "def mp3_to_vectors(mp3_path, segment_length_ms=3000):\n",
    "    # Load the MP3 file\n",
    "    audio = AudioSegment.from_mp3(mp3_path)\n",
    "\n",
    "    # Split the audio into one-minute segments\n",
    "    segments = [audio[i:i+segment_length_ms] for i in range(0, len(audio), segment_length_ms)]\n",
    "\n",
    "    # Process each segment into vectors\n",
    "    vectors = []\n",
    "    for segment in segments[:-1]:\n",
    "        # Export segment to a temporary WAV file\n",
    "        segment.export(\"temp.wav\", format=\"wav\")\n",
    "\n",
    "        # Load the segment using librosa\n",
    "        y, sr = librosa.load(\"temp.wav\", sr=None)\n",
    "\n",
    "        # Extract features (e.g., MFCCs)\n",
    "        mfcc = librosa.feature.mfcc(y=y, sr=sr)\n",
    "\n",
    "        # Flatten the mfccs\n",
    "        mfcc = mfcc.flatten()\n",
    "        \n",
    "        # Append the features to the vectors list\n",
    "        vectors.append(mfcc)\n",
    "\n",
    "    return np.array(vectors)\n"
   ]
  },
  {
   "cell_type": "code",
   "execution_count": 34,
   "metadata": {},
   "outputs": [],
   "source": [
    "# Loading data from mp3 files\n",
    "\n",
    "def create_dataset(speaker_path, nonspeaker_path):\n",
    "\n",
    "    vectors_class_0 = mp3_to_vectors(nonspeaker_path)\n",
    "    vectors_class_1 = mp3_to_vectors(speaker_path)\n",
    "\n",
    "    labels_class_0 = np.zeros(len(vectors_class_0))\n",
    "    labels_class_1 = np.ones(len(vectors_class_1))\n",
    "\n",
    "    vectors_unshuffled = np.concatenate((vectors_class_0, vectors_class_1))\n",
    "    labels_unshuffled = np.concatenate((labels_class_0, labels_class_1))\n",
    "\n",
    "    indices = np.arange(len(vectors_unshuffled))\n",
    "    np.random.shuffle(indices)\n",
    "    vectors = vectors_unshuffled[indices]\n",
    "    labels = labels_unshuffled[indices]\n",
    "\n",
    "    return (vectors, labels)"
   ]
  },
  {
   "cell_type": "code",
   "execution_count": 35,
   "metadata": {},
   "outputs": [],
   "source": [
    "def model_and_accuracy(vectors, labels):\n",
    "    X_train, X_test, y_train, y_test = train_test_split(vectors, labels, test_size = 0.2, random_state = 23)\n",
    "    classifier = SVC()\n",
    "    classifier.fit(X_train, y_train)\n",
    "    y_pred = classifier.predict(X_test)\n",
    "\n",
    "    accuracy = accuracy_score(y_test, y_pred)\n",
    "    return (classifier, accuracy)"
   ]
  },
  {
   "cell_type": "code",
   "execution_count": 42,
   "metadata": {},
   "outputs": [
    {
     "name": "stdout",
     "output_type": "stream",
     "text": [
      "0.375\n"
     ]
    }
   ],
   "source": [
    "# Experiment 1 \n",
    "# With the dummy dataset (both same classes)\n",
    "speaker_path = \"recording_test.mp3\"\n",
    "nonspeaker_path = \"recording_test.mp3\"\n",
    "\n",
    "vectors, labels = create_dataset(speaker_path, nonspeaker_path)\n",
    "model, accuracy = model_and_accuracy(vectors, labels)\n",
    "\n",
    "print(accuracy)\n"
   ]
  },
  {
   "cell_type": "code",
   "execution_count": 44,
   "metadata": {},
   "outputs": [
    {
     "name": "stdout",
     "output_type": "stream",
     "text": [
      "1.0\n"
     ]
    }
   ],
   "source": [
    "# Experiment 2\n",
    "# With 2 obviously different songs\n",
    "speaker_path = \"celticwoman.mp3\"\n",
    "nonspeaker_path = \"gladyoureviltoo.mp3\"\n",
    "\n",
    "vectors, labels = create_dataset(speaker_path, nonspeaker_path)\n",
    "model, accuracy = model_and_accuracy(vectors, labels)\n",
    "\n",
    "print(accuracy)"
   ]
  },
  {
   "cell_type": "code",
   "execution_count": 51,
   "metadata": {},
   "outputs": [
    {
     "name": "stdout",
     "output_type": "stream",
     "text": [
      "0.75\n"
     ]
    }
   ],
   "source": [
    "# Experiment 3\n",
    "# Two audio clips of the same song, one recorded on speaker, one recorded without speaker\n",
    "\n",
    "speaker_path = \"with_speaker_youtube_video.mp3\"\n",
    "nonspeaker_path = \"no_speaker_youtube_video.mp3\"\n",
    "\n",
    "vectors, labels = create_dataset(speaker_path, nonspeaker_path)\n",
    "model, accuracy = model_and_accuracy(vectors, labels)\n",
    "\n",
    "print(accuracy)"
   ]
  },
  {
   "cell_type": "code",
   "execution_count": null,
   "metadata": {},
   "outputs": [],
   "source": []
  }
 ],
 "metadata": {
  "kernelspec": {
   "display_name": "Python 3.11.5 64-bit",
   "language": "python",
   "name": "python3"
  },
  "language_info": {
   "codemirror_mode": {
    "name": "ipython",
    "version": 3
   },
   "file_extension": ".py",
   "mimetype": "text/x-python",
   "name": "python",
   "nbconvert_exporter": "python",
   "pygments_lexer": "ipython3",
   "version": "3.11.5"
  },
  "orig_nbformat": 4,
  "vscode": {
   "interpreter": {
    "hash": "b0fa6594d8f4cbf19f97940f81e996739fb7646882a419484c72d19e05852a7e"
   }
  }
 },
 "nbformat": 4,
 "nbformat_minor": 2
}
