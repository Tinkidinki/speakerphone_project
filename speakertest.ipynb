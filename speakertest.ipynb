{
 "cells": [
  {
   "cell_type": "code",
   "execution_count": 2,
   "metadata": {},
   "outputs": [],
   "source": [
    "from pydub import AudioSegment\n",
    "import librosa\n",
    "import numpy as np"
   ]
  },
  {
   "cell_type": "code",
   "execution_count": 3,
   "metadata": {},
   "outputs": [],
   "source": [
    "def mp3_to_vectors(mp3_path, segment_length_ms=600):\n",
    "    # Load the MP3 file\n",
    "    audio = AudioSegment.from_mp3(mp3_path)\n",
    "\n",
    "    # Split the audio into one-minute segments\n",
    "    segments = [audio[i:i+segment_length_ms] for i in range(0, len(audio), segment_length_ms)]\n",
    "\n",
    "    # Process each segment into vectors\n",
    "    vectors = []\n",
    "    for segment in segments[:-1]:\n",
    "        # Export segment to a temporary WAV file\n",
    "        segment.export(\"temp.wav\", format=\"wav\")\n",
    "\n",
    "        # Load the segment using librosa\n",
    "        y, sr = librosa.load(\"temp.wav\", sr=None)\n",
    "\n",
    "        # Extract features (e.g., MFCCs)\n",
    "        mfcc = librosa.feature.mfcc(y=y, sr=sr)\n",
    "        \n",
    "        # Append the features to the vectors list\n",
    "        vectors.append(mfcc)\n",
    "\n",
    "    return np.array(vectors)\n"
   ]
  },
  {
   "cell_type": "code",
   "execution_count": 5,
   "metadata": {},
   "outputs": [],
   "source": [
    "# Loading data from mp3 files\n",
    "\n",
    "speaker_path = 'recording_test.mp3'\n",
    "nonspeaker_path = 'recording_test.mp3'\n",
    "\n",
    "vectors_class_0 = mp3_to_vectors(nonspeaker_path)\n",
    "vectors_class_1 = mp3_to_vectors(speaker_path)\n",
    "\n",
    "labels_class_0 = np.zeros(len(vectors_class_0))\n",
    "labels_class_1 = np.ones(len(vectors_class_1))\n",
    "\n",
    "vectors_unshuffled = np.concatenate((vectors_class_0, vectors_class_1))\n",
    "labels_unshuffled = np.concatenate((labels_class_0, labels_class_1))\n",
    "\n",
    "indices = np.arange(len(vectors_unshuffled))\n",
    "np.random.shuffle(indices)\n",
    "vectors = vectors_unshuffled[indices]\n",
    "labels = labels_unshuffled[indices]"
   ]
  },
  {
   "cell_type": "code",
   "execution_count": null,
   "metadata": {},
   "outputs": [],
   "source": []
  }
 ],
 "metadata": {
  "kernelspec": {
   "display_name": "Python 3.11.5 64-bit",
   "language": "python",
   "name": "python3"
  },
  "language_info": {
   "codemirror_mode": {
    "name": "ipython",
    "version": 3
   },
   "file_extension": ".py",
   "mimetype": "text/x-python",
   "name": "python",
   "nbconvert_exporter": "python",
   "pygments_lexer": "ipython3",
   "version": "3.11.5"
  },
  "orig_nbformat": 4,
  "vscode": {
   "interpreter": {
    "hash": "b0fa6594d8f4cbf19f97940f81e996739fb7646882a419484c72d19e05852a7e"
   }
  }
 },
 "nbformat": 4,
 "nbformat_minor": 2
}
